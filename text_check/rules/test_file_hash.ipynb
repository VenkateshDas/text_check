{
 "cells": [
  {
   "cell_type": "code",
   "execution_count": 1,
   "metadata": {},
   "outputs": [],
   "source": [
    "import hashlib\n"
   ]
  },
  {
   "cell_type": "code",
   "execution_count": 9,
   "metadata": {},
   "outputs": [],
   "source": [
    "old_rules_file = \"/Users/venkateshmurugadas/text_check/text_check/configs/rules.csv\"\n",
    "new_rules_file = \"/Users/venkateshmurugadas/Downloads/new_rules.csv\""
   ]
  },
  {
   "cell_type": "code",
   "execution_count": 3,
   "metadata": {},
   "outputs": [],
   "source": [
    "def sha256sum(filename):\n",
    "    h  = hashlib.sha256()\n",
    "    b  = bytearray(128*1024)\n",
    "    mv = memoryview(b)\n",
    "    with open(filename, 'rb', buffering=0) as f:\n",
    "        while n := f.readinto(mv):\n",
    "            h.update(mv[:n])\n",
    "    return h.hexdigest()"
   ]
  },
  {
   "cell_type": "code",
   "execution_count": 12,
   "metadata": {},
   "outputs": [
    {
     "name": "stdout",
     "output_type": "stream",
     "text": [
      "f94b129b9d52dab4488ef087e96f27fe99aeacc052c2b68d440951a06042831c\n",
      "08f27c5491433b4fcc873828b9a198d998a83c256c61f5ad12798a83e1cc9039\n",
      "Changes\n"
     ]
    }
   ],
   "source": [
    "old_rule_hash = sha256sum(old_rules_file)\n",
    "new_rule_hash = sha256sum(new_rules_file)\n",
    "\n",
    "print(old_rule_hash)\n",
    "print(new_rule_hash)\n",
    "\n",
    "if old_rule_hash == new_rule_hash:\n",
    "    print(\"No changes\")\n",
    "else:\n",
    "    print(\"Changes\")"
   ]
  },
  {
   "cell_type": "code",
   "execution_count": 13,
   "metadata": {},
   "outputs": [
    {
     "name": "stdout",
     "output_type": "stream",
     "text": [
      "111205\n",
      "111421\n"
     ]
    }
   ],
   "source": [
    "from pathlib import Path\n",
    "\n",
    "old_rules_file = Path(\"/Users/venkateshmurugadas/text_check/text_check/configs/rules.csv\")\n",
    "new_rules_file = Path(\"/Users/venkateshmurugadas/Downloads/new_rules.csv\")\n",
    "\n",
    "print(old_rules_file.stat().st_size)\n",
    "print(new_rules_file.stat().st_size)"
   ]
  },
  {
   "cell_type": "code",
   "execution_count": 14,
   "metadata": {},
   "outputs": [
    {
     "data": {
      "text/plain": [
       "False"
      ]
     },
     "execution_count": 14,
     "metadata": {},
     "output_type": "execute_result"
    }
   ],
   "source": [
    "old_rules_file.read_bytes() == new_rules_file.read_bytes()"
   ]
  },
  {
   "cell_type": "code",
   "execution_count": null,
   "metadata": {},
   "outputs": [],
   "source": []
  }
 ],
 "metadata": {
  "kernelspec": {
   "display_name": "Python 3.8.13 ('text_check')",
   "language": "python",
   "name": "python3"
  },
  "language_info": {
   "codemirror_mode": {
    "name": "ipython",
    "version": 3
   },
   "file_extension": ".py",
   "mimetype": "text/x-python",
   "name": "python",
   "nbconvert_exporter": "python",
   "pygments_lexer": "ipython3",
   "version": "3.8.13"
  },
  "orig_nbformat": 4,
  "vscode": {
   "interpreter": {
    "hash": "9d396a286edb21c6134599b1a5bcec52c845f570a83527a3ac51c00864d53603"
   }
  }
 },
 "nbformat": 4,
 "nbformat_minor": 2
}
